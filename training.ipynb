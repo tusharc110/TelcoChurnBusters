{
 "cells": [
  {
   "cell_type": "code",
   "execution_count": 67,
   "metadata": {},
   "outputs": [],
   "source": [
    "import pandas as pd\n",
    "\n",
    "train = pd.read_csv(\"rawdataset.csv\")\n",
    "train_df = train.sample(frac=0.5, random_state=42)\n",
    "test_df = train.drop(train_df.index)\n",
    "\n",
    "#START TRAIN_DF TRANSFORM\n",
    "del train_df[\"customerID\"]\n",
    "train_df[\"gender\"] = train_df[\"gender\"].map({\"Male\": 1, \"Female\": 0})\n",
    "train_df[\"Partner\"] = train_df[\"Partner\"].map({\"Yes\": 1, \"No\": 0})\n",
    "train_df[\"Dependents\"] = train_df[\"Dependents\"].map({\"Yes\": 1, \"No\": 0})\n",
    "train_df[\"PhoneService\"] = train_df[\"PhoneService\"].map({\"Yes\": 1, \"No\": 0})\n",
    "train_df[\"MultipleLines\"] = train_df[\"MultipleLines\"].map({\"No phone service\": 0, \"No\": 1, \"Yes\": 2})\n",
    "train_df[\"InternetService\"] = train_df[\"InternetService\"].map({\"No\": 0, \"DSL\": 1, \"Fiber optic\": 2})\n",
    "train_df[\"OnlineSecurity\"] = train_df[\"OnlineSecurity\"].map({\"Yes\": 1, \"No\": 0, \"No internet service\": 2})\n",
    "train_df[\"OnlineBackup\"] = train_df[\"OnlineBackup\"].map({\"Yes\": 1, \"No\": 0, \"No internet service\": 2})\n",
    "train_df[\"DeviceProtection\"] = train_df[\"DeviceProtection\"].map({\"Yes\": 1, \"No\": 0, \"No internet service\": 2})\n",
    "train_df[\"TechSupport\"] = train_df[\"TechSupport\"].map({\"Yes\": 1, \"No\": 0, \"No internet service\": 2})\n",
    "train_df[\"StreamingTV\"] = train_df[\"StreamingTV\"].map({\"Yes\": 1, \"No\": 0, \"No internet service\": 2})\n",
    "train_df[\"StreamingMovies\"] = train_df[\"StreamingMovies\"].map({\"Yes\": 1, \"No\": 0, \"No internet service\": 2})\n",
    "train_df[\"Contract\"] = train_df[\"Contract\"].map({\"One year\": 1, \"Two year\": 0, \"Month-to-month\": 2})\n",
    "train_df[\"PaperlessBilling\"] = train_df[\"PaperlessBilling\"].map({\"Yes\": 1, \"No\": 0})\n",
    "train_df[\"PaymentMethod\"] = train_df[\"PaymentMethod\"].map({\"Bank transfer (automatic)\": 1, \"Electronic check\": 0, \"Mailed check\": 2, \"Credit card (automatic)\": 3})\n",
    "train_df['TotalCharges'] = pd.to_numeric(train_df['TotalCharges'], errors='coerce')\n",
    "train_df = train_df.dropna(subset=['TotalCharges'])\n",
    "train_df.reset_index(drop=True, inplace=True)\n",
    "train_df[\"Churn\"] = train_df[\"Churn\"].map({\"Yes\": 1, \"No\": 0})\n",
    "#END TRAIN_DF TRANSFORM\n",
    "\n",
    "train_df.to_csv(\"train.csv\")\n",
    "\n",
    "#START TEST_DF TRANSFORM\n",
    "del test_df[\"customerID\"]\n",
    "test_df[\"gender\"] = test_df[\"gender\"].map({\"Male\": 1, \"Female\": 0})\n",
    "test_df[\"Partner\"] = test_df[\"Partner\"].map({\"Yes\": 1, \"No\": 0})\n",
    "test_df[\"Dependents\"] = test_df[\"Dependents\"].map({\"Yes\": 1, \"No\": 0})\n",
    "test_df[\"PhoneService\"] = test_df[\"PhoneService\"].map({\"Yes\": 1, \"No\": 0})\n",
    "test_df[\"MultipleLines\"] = test_df[\"MultipleLines\"].map({\"No phone service\": 0, \"No\": 1, \"Yes\": 2})\n",
    "test_df[\"InternetService\"] = test_df[\"InternetService\"].map({\"No\": 0, \"DSL\": 1, \"Fiber optic\": 2})\n",
    "test_df[\"OnlineSecurity\"] = test_df[\"OnlineSecurity\"].map({\"Yes\": 1, \"No\": 0, \"No internet service\": 2})\n",
    "test_df[\"OnlineBackup\"] = test_df[\"OnlineBackup\"].map({\"Yes\": 1, \"No\": 0, \"No internet service\": 2})\n",
    "test_df[\"DeviceProtection\"] = test_df[\"DeviceProtection\"].map({\"Yes\": 1, \"No\": 0, \"No internet service\": 2})\n",
    "test_df[\"TechSupport\"] = test_df[\"TechSupport\"].map({\"Yes\": 1, \"No\": 0, \"No internet service\": 2})\n",
    "test_df[\"StreamingTV\"] = test_df[\"StreamingTV\"].map({\"Yes\": 1, \"No\": 0, \"No internet service\": 2})\n",
    "test_df[\"StreamingMovies\"] = test_df[\"StreamingMovies\"].map({\"Yes\": 1, \"No\": 0, \"No internet service\": 2})\n",
    "test_df[\"Contract\"] = test_df[\"Contract\"].map({\"One year\": 1, \"Two year\": 0, \"Month-to-month\": 2})\n",
    "test_df[\"PaperlessBilling\"] = test_df[\"PaperlessBilling\"].map({\"Yes\": 1, \"No\": 0})\n",
    "test_df[\"PaymentMethod\"] = test_df[\"PaymentMethod\"].map({\"Bank transfer (automatic)\": 1, \"Electronic check\": 0, \"Mailed check\": 2, \"Credit card (automatic)\": 3})\n",
    "test_df['TotalCharges'] = pd.to_numeric(test_df['TotalCharges'], errors='coerce')\n",
    "test_df = test_df.dropna(subset=['TotalCharges'])\n",
    "test_df.reset_index(drop=True, inplace=True)\n",
    "test_df[\"Churn\"] = test_df[\"Churn\"].map({\"Yes\": 1, \"No\": 0})\n",
    "#END TEST_DF TRANSFORM\n",
    "\n",
    "test_df.to_csv(\"test.csv\")\n"
   ]
  },
  {
   "cell_type": "code",
   "execution_count": 68,
   "metadata": {},
   "outputs": [
    {
     "name": "stdout",
     "output_type": "stream",
     "text": [
      "Models trained successfully...\n"
     ]
    }
   ],
   "source": [
    "from sklearn.linear_model import LogisticRegression\n",
    "from sklearn.neural_network import MLPClassifier\n",
    "from sklearn.metrics import accuracy_score\n",
    "\n",
    "train_df = pd.read_csv(\"train.csv\")\n",
    "\n",
    "train_features = train_df[[\"gender\",\"SeniorCitizen\",\"Partner\",\n",
    "                          \"Dependents\",\"tenure\",\"PhoneService\",\n",
    "                           \"MultipleLines\",\"InternetService\",\"OnlineSecurity\",\n",
    "                           \"OnlineBackup\", \"DeviceProtection\", \"TechSupport\", \"StreamingTV\",\n",
    "                           \"StreamingMovies\", \"Contract\", \"PaperlessBilling\",\"PaymentMethod\",\n",
    "                           \"MonthlyCharges\", \"TotalCharges\"]]\n",
    "\n",
    "train_labels = train_df[\"Churn\"]\n",
    "\n",
    "# Now let's define our models\n",
    "lr_classifier = LogisticRegression(solver='lbfgs',max_iter=10000)\n",
    "mlp_classifier = MLPClassifier(solver='lbfgs', alpha=1e-5,\n",
    "                               hidden_layer_sizes=(8, 2), random_state=11,max_iter=10000)\n",
    "\n",
    "# train our models\n",
    "lr_classifier.fit(train_features.to_numpy(),train_labels.to_numpy())\n",
    "mlp_classifier.fit(train_features.to_numpy(),train_labels.to_numpy())\n",
    "\n",
    "print (\"Models trained successfully...\")"
   ]
  },
  {
   "cell_type": "code",
   "execution_count": 69,
   "metadata": {},
   "outputs": [
    {
     "name": "stdout",
     "output_type": "stream",
     "text": [
      "Accuracy of the Logistic Classifier on test data= 0.8090366581415175\n",
      "Accuracy of the MLP Classifier on test data = 0.7311736288718386\n"
     ]
    }
   ],
   "source": [
    "#load test data\n",
    "test_df = pd.read_csv(\"test.csv\")\n",
    "\n",
    "# Extract the input features\n",
    "test_inputs = train_df[[\"gender\",\"SeniorCitizen\",\"Partner\",\n",
    "                          \"Dependents\",\"tenure\",\"PhoneService\",\n",
    "                           \"MultipleLines\",\"InternetService\",\"OnlineSecurity\",\n",
    "                           \"OnlineBackup\", \"DeviceProtection\", \"TechSupport\", \"StreamingTV\",\n",
    "                           \"StreamingMovies\", \"Contract\", \"PaperlessBilling\",\"PaymentMethod\",\n",
    "                           \"MonthlyCharges\", \"TotalCharges\"]]\n",
    "\n",
    "y_actual = train_df[\"Churn\"]\n",
    "\n",
    "# predict using logistic regression model\n",
    "y_predicted_lr = lr_classifier.predict(test_inputs.to_numpy())\n",
    "lr_accuracy_score = accuracy_score(y_predicted_lr,y_actual)\n",
    "\n",
    "# predict using logistic regression model\n",
    "y_predicted_mlp = mlp_classifier.predict(test_inputs.to_numpy())\n",
    "mlp_accuracy_score = accuracy_score(y_predicted_mlp,y_actual)\n",
    "\n",
    "print (f\"Accuracy of the Logistic Classifier on test data= {lr_accuracy_score}\")\n",
    "print (f\"Accuracy of the MLP Classifier on test data = {mlp_accuracy_score}\")"
   ]
  }
 ],
 "metadata": {
  "kernelspec": {
   "display_name": "Python 3",
   "language": "python",
   "name": "python3"
  },
  "language_info": {
   "codemirror_mode": {
    "name": "ipython",
    "version": 3
   },
   "file_extension": ".py",
   "mimetype": "text/x-python",
   "name": "python",
   "nbconvert_exporter": "python",
   "pygments_lexer": "ipython3",
   "version": "3.10.5"
  }
 },
 "nbformat": 4,
 "nbformat_minor": 2
}
